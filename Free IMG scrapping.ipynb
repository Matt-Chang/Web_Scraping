{
 "cells": [
  {
   "cell_type": "code",
   "execution_count": 4,
   "id": "d0fbd879",
   "metadata": {},
   "outputs": [],
   "source": [
    "import requests\n",
    "import os"
   ]
  },
  {
   "cell_type": "code",
   "execution_count": 69,
   "id": "e8612d0d",
   "metadata": {},
   "outputs": [],
   "source": [
    "# for item in data['results']:\n",
    "#     name = item['id']\n",
    "#     url = item['urls']['thumb']\n",
    "#     with open(name+'.jpg','wb') as f:\n",
    "#         f.write(r.content)"
   ]
  },
  {
   "cell_type": "code",
   "execution_count": null,
   "id": "461f1eda",
   "metadata": {},
   "outputs": [],
   "source": [
    "class Unsplash: \n",
    "    \n",
    "    def __init__(self,search_term,per_page=20,quality=\"thumb\"):\n",
    "        self.search_term = search_term\n",
    "        self.per_page = per_page\n",
    "        self.page = 0\n",
    "        self.quality = quality \n",
    "        \n",
    "    def set_url(self):\n",
    "        return f\"https://unsplash.com/napi/search/photos?query={self.search_term}&per_page={self.per_page}&page={self.page}\"\n",
    "    \n",
    "    def make_request(self):\n",
    "        url = self.set_url()\n",
    "        return requests.request(\"GET\",url)\n",
    "    \n",
    "    def get_data(self):\n",
    "        self.data = self.make_request().json()\n",
    "        \n",
    "    def save_path(self,name):\n",
    "        download_dir = 'unsplash'\n",
    "        if not os.path.exists(download_dir):\n",
    "            os.mkdir(download_dir)\n",
    "        return f\"{os.path.join(os.path.realpath(os.getcwd()),download_dir,name)}.jpg\"\n",
    "    \n",
    "    def download(self,url,name):\n",
    "        filepath = self.save_path(name)\n",
    "        with open(filepath,'wb') as f:\n",
    "            f.write(requests.request(\"GET\",url).content)\n",
    "    \n",
    "    def Scrapper(self,pages):\n",
    "        for i in range(0,pages+1):\n",
    "            self.make_request()\n",
    "            self.get_data()\n",
    "            for item in self.data['results']:\n",
    "                name = item['id']\n",
    "                url = item['urls'][self.quality]\n",
    "                self.download(url,name)\n",
    "                \n",
    "if __name__ == '__main__':\n",
    "    scrapper = Unsplash('car',per_page=1)\n",
    "    scrapper.Scrapper(2)\n",
    "            "
   ]
  },
  {
   "cell_type": "code",
   "execution_count": null,
   "id": "9af38845",
   "metadata": {},
   "outputs": [],
   "source": []
  }
 ],
 "metadata": {
  "kernelspec": {
   "display_name": "Python 3 (ipykernel)",
   "language": "python",
   "name": "python3"
  },
  "language_info": {
   "codemirror_mode": {
    "name": "ipython",
    "version": 3
   },
   "file_extension": ".py",
   "mimetype": "text/x-python",
   "name": "python",
   "nbconvert_exporter": "python",
   "pygments_lexer": "ipython3",
   "version": "3.9.7"
  }
 },
 "nbformat": 4,
 "nbformat_minor": 5
}
